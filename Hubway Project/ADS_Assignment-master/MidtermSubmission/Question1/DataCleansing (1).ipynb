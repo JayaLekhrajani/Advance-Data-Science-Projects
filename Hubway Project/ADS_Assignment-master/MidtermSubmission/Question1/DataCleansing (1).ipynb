{
 "cells": [
  {
   "cell_type": "code",
   "execution_count": 1,
   "metadata": {
    "collapsed": true
   },
   "outputs": [],
   "source": [
    "#Read Dataset\n",
    "from __future__ import print_function\n",
    "\n",
    "import pandas as pd\n",
    "import numpy as np\n"
   ]
  },
  {
   "cell_type": "code",
   "execution_count": 2,
   "metadata": {
    "collapsed": false
   },
   "outputs": [
    {
     "name": "stdout",
     "output_type": "stream",
     "text": [
      "Index([u'ID', u'LIMIT_BAL', u'SEX', u'EDUCATION', u'MARRIAGE', u'AGE',\n",
      "       u'PAY_0', u'PAY_2', u'PAY_3', u'PAY_4', u'PAY_5', u'PAY_6',\n",
      "       u'BILL_AMT1', u'BILL_AMT2', u'BILL_AMT3', u'BILL_AMT4', u'BILL_AMT5',\n",
      "       u'BILL_AMT6', u'PAY_AMT1', u'PAY_AMT2', u'PAY_AMT3', u'PAY_AMT4',\n",
      "       u'PAY_AMT5', u'PAY_AMT6', u'default payment next month'],\n",
      "      dtype='object')\n",
      "Sex\n",
      "{1: 11888, 2: 18112}\n",
      "{0: 14, 1: 10585, 2: 14030, 3: 4917, 4: 123, 5: 280, 6: 51}\n",
      "{1.0: 10585, 2.0: 14030, 3.0: 4917, 'NaN': 468}\n",
      "MARRIAGE 0,3=>NA\n",
      "{0: 54, 1: 13659, 2: 15964, 3: 323}\n",
      "{1.0: 13659, 2.0: 15964, 'NaN': 377}\n",
      "                 ID       LIMIT_BAL           SEX     EDUCATION      MARRIAGE  \\\n",
      "count  30000.000000    30000.000000  30000.000000  29532.000000  29623.000000   \n",
      "mean   15000.500000   167484.322667      1.603733      1.808073      1.538906   \n",
      "std     8660.398374   129747.661567      0.489129      0.698643      0.498492   \n",
      "min        1.000000    10000.000000      1.000000      1.000000      1.000000   \n",
      "25%     7500.750000    50000.000000      1.000000           NaN           NaN   \n",
      "50%    15000.500000   140000.000000      2.000000           NaN           NaN   \n",
      "75%    22500.250000   240000.000000      2.000000           NaN           NaN   \n",
      "max    30000.000000  1000000.000000      2.000000      3.000000      2.000000   \n",
      "\n",
      "                AGE         PAY_0         PAY_2         PAY_3         PAY_4  \\\n",
      "count  30000.000000  30000.000000  30000.000000  30000.000000  30000.000000   \n",
      "mean      35.485500     -0.016700     -0.133767     -0.166200     -0.220667   \n",
      "std        9.217904      1.123802      1.197186      1.196868      1.169139   \n",
      "min       21.000000     -2.000000     -2.000000     -2.000000     -2.000000   \n",
      "25%       28.000000     -1.000000     -1.000000     -1.000000     -1.000000   \n",
      "50%       34.000000      0.000000      0.000000      0.000000      0.000000   \n",
      "75%       41.000000      0.000000      0.000000      0.000000      0.000000   \n",
      "max       79.000000      8.000000      8.000000      8.000000      8.000000   \n",
      "\n",
      "                  ...                  BILL_AMT4      BILL_AMT5  \\\n",
      "count             ...               30000.000000   30000.000000   \n",
      "mean              ...               43262.948967   40311.400967   \n",
      "std               ...               64332.856134   60797.155770   \n",
      "min               ...             -170000.000000  -81334.000000   \n",
      "25%               ...                2326.750000    1763.000000   \n",
      "50%               ...               19052.000000   18104.500000   \n",
      "75%               ...               54506.000000   50190.500000   \n",
      "max               ...              891586.000000  927171.000000   \n",
      "\n",
      "           BILL_AMT6       PAY_AMT1      PAY_AMT2      PAY_AMT3  \\\n",
      "count   30000.000000   30000.000000  3.000000e+04   30000.00000   \n",
      "mean    38871.760400    5663.580500  5.921163e+03    5225.68150   \n",
      "std     59554.107537   16563.280354  2.304087e+04   17606.96147   \n",
      "min   -339603.000000       0.000000  0.000000e+00       0.00000   \n",
      "25%      1256.000000    1000.000000  8.330000e+02     390.00000   \n",
      "50%     17071.000000    2100.000000  2.009000e+03    1800.00000   \n",
      "75%     49198.250000    5006.000000  5.000000e+03    4505.00000   \n",
      "max    961664.000000  873552.000000  1.684259e+06  896040.00000   \n",
      "\n",
      "            PAY_AMT4       PAY_AMT5       PAY_AMT6  default payment next month  \n",
      "count   30000.000000   30000.000000   30000.000000                30000.000000  \n",
      "mean     4826.076867    4799.387633    5215.502567                    0.221200  \n",
      "std     15666.159744   15278.305679   17777.465775                    0.415062  \n",
      "min         0.000000       0.000000       0.000000                    0.000000  \n",
      "25%       296.000000     252.500000     117.750000                    0.000000  \n",
      "50%      1500.000000    1500.000000    1500.000000                    0.000000  \n",
      "75%      4013.250000    4031.500000    4000.000000                    0.000000  \n",
      "max    621000.000000  426529.000000  528666.000000                    1.000000  \n",
      "\n",
      "[8 rows x 25 columns]\n",
      "ID                              0\n",
      "LIMIT_BAL                       0\n",
      "SEX                             0\n",
      "EDUCATION                     468\n",
      "MARRIAGE                      377\n",
      "AGE                             0\n",
      "PAY_0                           0\n",
      "PAY_2                           0\n",
      "PAY_3                           0\n",
      "PAY_4                           0\n",
      "PAY_5                           0\n",
      "PAY_6                           0\n",
      "BILL_AMT1                       0\n",
      "BILL_AMT2                       0\n",
      "BILL_AMT3                       0\n",
      "BILL_AMT4                       0\n",
      "BILL_AMT5                       0\n",
      "BILL_AMT6                       0\n",
      "PAY_AMT1                        0\n",
      "PAY_AMT2                        0\n",
      "PAY_AMT3                        0\n",
      "PAY_AMT4                        0\n",
      "PAY_AMT5                        0\n",
      "PAY_AMT6                        0\n",
      "default payment next month      0\n",
      "dtype: int64\n",
      "0\n"
     ]
    },
    {
     "name": "stderr",
     "output_type": "stream",
     "text": [
      "C:\\Users\\Jaya\\Anaconda2\\lib\\site-packages\\numpy\\lib\\function_base.py:3823: RuntimeWarning: Invalid value encountered in percentile\n",
      "  RuntimeWarning)\n"
     ]
    }
   ],
   "source": [
    "url = 'https://archive.ics.uci.edu/ml/machine-learning-databases/00350/default%20of%20credit%20card%20clients.xls'\n",
    "data = pd.read_excel(url, skiprows=1, sheetname='Data')\n",
    "df = data.copy()\n",
    "target = 'default payment next month'\n",
    "print(df.columns)\n",
    "\n",
    "\n",
    "#Data recoding of categorial factors\n",
    "#Categoriccal factors with 2 levels are kept\n",
    "#Categorial that are ordinal are kept\n",
    "#Undocumented values are replaced with NaN\n",
    "\n",
    "def describe_factor(x):\n",
    "    ret = dict()\n",
    "    for lvl in x.unique():\n",
    "        if pd.isnull(lvl):\n",
    "            ret[\"NaN\"] = x.isnull().sum()\n",
    "        else:\n",
    "           ret[lvl] = np.sum(x==lvl)\n",
    "    return ret\n",
    "\n",
    "print('Sex')\n",
    "print(describe_factor(df[\"SEX\"]))\n",
    "#print('Education is ordinnal Keep it, but set, others to NA')\n",
    "print(describe_factor(df[\"EDUCATION\"]))\n",
    "# remap unknown with NaN\n",
    "df[\"EDUCATION\"] = df[\"EDUCATION\"].map({0: np.NaN, 1:1, 2:2, 3:3, 4:np.NaN, \n",
    "    5: np.NaN, 6: np.NaN})\n",
    "print(describe_factor(df[\"EDUCATION\"]))\n",
    "print('MARRIAGE 0,3=>NA')\n",
    "print(describe_factor(df[\"MARRIAGE\"]))\n",
    "df.MARRIAGE = df.MARRIAGE.map({0:np.NaN, 1:1, 2:2, 3:np.NaN})\n",
    "print(describe_factor(df.MARRIAGE))\n",
    "print(df.describe())\n",
    "print(df.isnull().sum())\n",
    "df.ix[df[\"EDUCATION\"].isnull(), \"EDUCATION\"] = df[\"EDUCATION\"].mean()\n",
    "df.ix[df[\"MARRIAGE\"].isnull(), \"MARRIAGE\"] = df[\"MARRIAGE\"].mean()\n",
    "print(df.isnull().sum().sum())\n",
    "describe_factor(df[target])\n",
    "predictors = df.columns.drop(['ID', target])\n",
    "X = np.asarray(df[predictors])\n",
    "y = np.asarray(df[target])"
   ]
  },
  {
   "cell_type": "code",
   "execution_count": 4,
   "metadata": {
    "collapsed": false
   },
   "outputs": [],
   "source": [
    "df.ix[df[\"EDUCATION\"].isnull(), \"EDUCATION\"] = df[\"EDUCATION\"].mean()\n",
    "df.ix[df[\"MARRIAGE\"].isnull(), \"MARRIAGE\"] = df[\"MARRIAGE\"].mean()\n",
    "\n",
    "df.to_csv('/Users/Jaya/Desktop/NEU/ADS/clean.csv')"
   ]
  },
  {
   "cell_type": "code",
   "execution_count": null,
   "metadata": {
    "collapsed": true
   },
   "outputs": [],
   "source": []
  }
 ],
 "metadata": {
  "kernelspec": {
   "display_name": "Python [Root]",
   "language": "python",
   "name": "Python [Root]"
  },
  "language_info": {
   "codemirror_mode": {
    "name": "ipython",
    "version": 2
   },
   "file_extension": ".py",
   "mimetype": "text/x-python",
   "name": "python",
   "nbconvert_exporter": "python",
   "pygments_lexer": "ipython2",
   "version": "2.7.11"
  }
 },
 "nbformat": 4,
 "nbformat_minor": 0
}
